{
 "cells": [
  {
   "cell_type": "code",
   "execution_count": 150,
   "metadata": {},
   "outputs": [],
   "source": [
    "import pandas as pd\n",
    "import matplotlib.pyplot as plt\n",
    "from pandas import Series, DataFrame"
   ]
  },
  {
   "cell_type": "code",
   "execution_count": 97,
   "metadata": {},
   "outputs": [
    {
     "name": "stdout",
     "output_type": "stream",
     "text": [
      "Tue May  4 09:57:11 EDT 2021 -- File Descriptors ncs  : 371\r\n",
      "Tue May  4 09:57:11 EDT 2021 -- File Descriptors 1678 : 71\r\n",
      "Tue May  4 09:57:11 EDT 2021 -- File Descriptors 32609: 442\r\n",
      "Tue May  4 10:07:11 EDT 2021 -- File Descriptors ncs  : 371\r\n",
      "Tue May  4 10:07:11 EDT 2021 -- File Descriptors 1678 : 71\r\n",
      "Tue May  4 10:07:11 EDT 2021 -- File Descriptors 32609: 442\r\n",
      "Tue May  4 10:17:11 EDT 2021 -- File Descriptors ncs  : 370\r\n",
      "Tue May  4 10:17:11 EDT 2021 -- File Descriptors 1678 : 71\r\n",
      "Tue May  4 10:17:11 EDT 2021 -- File Descriptors 32609: 442\r\n",
      "Tue May  4 10:27:11 EDT 2021 -- File Descriptors ncs  : 370\r\n"
     ]
    }
   ],
   "source": [
    "!head nso_lsof.log"
   ]
  },
  {
   "cell_type": "code",
   "execution_count": 169,
   "metadata": {},
   "outputs": [],
   "source": [
    "!awk '/File Descriptors ncs/' nso_lsof.log > 1.log\n",
    "!awk '/File Descriptors 1678/' nso_lsof.log > 2.log\n",
    "!awk '/File Descriptors 32609/' nso_lsof.log > 3.log"
   ]
  },
  {
   "cell_type": "code",
   "execution_count": 170,
   "metadata": {},
   "outputs": [
    {
     "data": {
      "text/html": [
       "<div>\n",
       "<style scoped>\n",
       "    .dataframe tbody tr th:only-of-type {\n",
       "        vertical-align: middle;\n",
       "    }\n",
       "\n",
       "    .dataframe tbody tr th {\n",
       "        vertical-align: top;\n",
       "    }\n",
       "\n",
       "    .dataframe thead th {\n",
       "        text-align: right;\n",
       "    }\n",
       "</style>\n",
       "<table border=\"1\" class=\"dataframe\">\n",
       "  <thead>\n",
       "    <tr style=\"text-align: right;\">\n",
       "      <th></th>\n",
       "      <th>0</th>\n",
       "      <th>1</th>\n",
       "      <th>2</th>\n",
       "      <th>3</th>\n",
       "      <th>4</th>\n",
       "    </tr>\n",
       "  </thead>\n",
       "  <tbody>\n",
       "    <tr>\n",
       "      <th>0</th>\n",
       "      <td>Tue May  4 09</td>\n",
       "      <td>57</td>\n",
       "      <td>11 EDT 2021</td>\n",
       "      <td>File Descriptors ncs</td>\n",
       "      <td>371</td>\n",
       "    </tr>\n",
       "    <tr>\n",
       "      <th>1</th>\n",
       "      <td>Tue May  4 10</td>\n",
       "      <td>7</td>\n",
       "      <td>11 EDT 2021</td>\n",
       "      <td>File Descriptors ncs</td>\n",
       "      <td>371</td>\n",
       "    </tr>\n",
       "    <tr>\n",
       "      <th>2</th>\n",
       "      <td>Tue May  4 10</td>\n",
       "      <td>17</td>\n",
       "      <td>11 EDT 2021</td>\n",
       "      <td>File Descriptors ncs</td>\n",
       "      <td>370</td>\n",
       "    </tr>\n",
       "    <tr>\n",
       "      <th>3</th>\n",
       "      <td>Tue May  4 10</td>\n",
       "      <td>27</td>\n",
       "      <td>11 EDT 2021</td>\n",
       "      <td>File Descriptors ncs</td>\n",
       "      <td>370</td>\n",
       "    </tr>\n",
       "    <tr>\n",
       "      <th>4</th>\n",
       "      <td>Tue May  4 10</td>\n",
       "      <td>37</td>\n",
       "      <td>11 EDT 2021</td>\n",
       "      <td>File Descriptors ncs</td>\n",
       "      <td>371</td>\n",
       "    </tr>\n",
       "  </tbody>\n",
       "</table>\n",
       "</div>"
      ],
      "text/plain": [
       "               0   1             2                        3    4\n",
       "0  Tue May  4 09  57  11 EDT 2021    File Descriptors ncs    371\n",
       "1  Tue May  4 10   7  11 EDT 2021    File Descriptors ncs    371\n",
       "2  Tue May  4 10  17  11 EDT 2021    File Descriptors ncs    370\n",
       "3  Tue May  4 10  27  11 EDT 2021    File Descriptors ncs    370\n",
       "4  Tue May  4 10  37  11 EDT 2021    File Descriptors ncs    371"
      ]
     },
     "execution_count": 170,
     "metadata": {},
     "output_type": "execute_result"
    }
   ],
   "source": [
    "df = pd.read_csv('1.log', sep=':|--', engine='python', header=None, skipinitialspace=True)\n",
    "\n",
    "df.head()"
   ]
  },
  {
   "cell_type": "code",
   "execution_count": 171,
   "metadata": {},
   "outputs": [
    {
     "name": "stdout",
     "output_type": "stream",
     "text": [
      "<class 'pandas.core.frame.DataFrame'>\n",
      "RangeIndex: 3958 entries, 0 to 3957\n",
      "Data columns (total 6 columns):\n",
      " #   Column  Non-Null Count  Dtype                                 \n",
      "---  ------  --------------  -----                                 \n",
      " 0   0       3958 non-null   object                                \n",
      " 1   1       3958 non-null   int64                                 \n",
      " 2   2       3958 non-null   object                                \n",
      " 3   3       3958 non-null   object                                \n",
      " 4   num     3958 non-null   int64                                 \n",
      " 5   date    3958 non-null   datetime64[ns, pytz.FixedOffset(-240)]\n",
      "dtypes: datetime64[ns, pytz.FixedOffset(-240)](1), int64(2), object(3)\n",
      "memory usage: 185.7+ KB\n"
     ]
    }
   ],
   "source": [
    "df['date'] = df[0] + \":\" + df[1].apply(str) + \":\" + df[2]\n",
    "df['date'] = pd.to_datetime(df['date'], infer_datetime_format=True)\n",
    "df = df.rename(columns = {4:'num'})\n",
    "#df.columns\n",
    "df.info()"
   ]
  },
  {
   "cell_type": "code",
   "execution_count": 172,
   "metadata": {},
   "outputs": [
    {
     "data": {
      "text/html": [
       "<div>\n",
       "<style scoped>\n",
       "    .dataframe tbody tr th:only-of-type {\n",
       "        vertical-align: middle;\n",
       "    }\n",
       "\n",
       "    .dataframe tbody tr th {\n",
       "        vertical-align: top;\n",
       "    }\n",
       "\n",
       "    .dataframe thead th {\n",
       "        text-align: right;\n",
       "    }\n",
       "</style>\n",
       "<table border=\"1\" class=\"dataframe\">\n",
       "  <thead>\n",
       "    <tr style=\"text-align: right;\">\n",
       "      <th></th>\n",
       "      <th>0</th>\n",
       "      <th>1</th>\n",
       "      <th>2</th>\n",
       "      <th>3</th>\n",
       "      <th>num</th>\n",
       "      <th>date</th>\n",
       "    </tr>\n",
       "  </thead>\n",
       "  <tbody>\n",
       "    <tr>\n",
       "      <th>0</th>\n",
       "      <td>Tue May  4 09</td>\n",
       "      <td>57</td>\n",
       "      <td>11 EDT 2021</td>\n",
       "      <td>File Descriptors ncs</td>\n",
       "      <td>371</td>\n",
       "      <td>2021-05-04 09:57:11-04:00</td>\n",
       "    </tr>\n",
       "    <tr>\n",
       "      <th>1</th>\n",
       "      <td>Tue May  4 10</td>\n",
       "      <td>7</td>\n",
       "      <td>11 EDT 2021</td>\n",
       "      <td>File Descriptors ncs</td>\n",
       "      <td>371</td>\n",
       "      <td>2021-05-04 10:07:11-04:00</td>\n",
       "    </tr>\n",
       "    <tr>\n",
       "      <th>2</th>\n",
       "      <td>Tue May  4 10</td>\n",
       "      <td>17</td>\n",
       "      <td>11 EDT 2021</td>\n",
       "      <td>File Descriptors ncs</td>\n",
       "      <td>370</td>\n",
       "      <td>2021-05-04 10:17:11-04:00</td>\n",
       "    </tr>\n",
       "    <tr>\n",
       "      <th>3</th>\n",
       "      <td>Tue May  4 10</td>\n",
       "      <td>27</td>\n",
       "      <td>11 EDT 2021</td>\n",
       "      <td>File Descriptors ncs</td>\n",
       "      <td>370</td>\n",
       "      <td>2021-05-04 10:27:11-04:00</td>\n",
       "    </tr>\n",
       "    <tr>\n",
       "      <th>4</th>\n",
       "      <td>Tue May  4 10</td>\n",
       "      <td>37</td>\n",
       "      <td>11 EDT 2021</td>\n",
       "      <td>File Descriptors ncs</td>\n",
       "      <td>371</td>\n",
       "      <td>2021-05-04 10:37:11-04:00</td>\n",
       "    </tr>\n",
       "  </tbody>\n",
       "</table>\n",
       "</div>"
      ],
      "text/plain": [
       "               0   1             2                        3  num  \\\n",
       "0  Tue May  4 09  57  11 EDT 2021    File Descriptors ncs    371   \n",
       "1  Tue May  4 10   7  11 EDT 2021    File Descriptors ncs    371   \n",
       "2  Tue May  4 10  17  11 EDT 2021    File Descriptors ncs    370   \n",
       "3  Tue May  4 10  27  11 EDT 2021    File Descriptors ncs    370   \n",
       "4  Tue May  4 10  37  11 EDT 2021    File Descriptors ncs    371   \n",
       "\n",
       "                       date  \n",
       "0 2021-05-04 09:57:11-04:00  \n",
       "1 2021-05-04 10:07:11-04:00  \n",
       "2 2021-05-04 10:17:11-04:00  \n",
       "3 2021-05-04 10:27:11-04:00  \n",
       "4 2021-05-04 10:37:11-04:00  "
      ]
     },
     "execution_count": 172,
     "metadata": {},
     "output_type": "execute_result"
    }
   ],
   "source": [
    "df.head()"
   ]
  },
  {
   "cell_type": "code",
   "execution_count": 160,
   "metadata": {},
   "outputs": [
    {
     "data": {
      "text/plain": [
       "<AxesSubplot:xlabel='date'>"
      ]
     },
     "execution_count": 160,
     "metadata": {},
     "output_type": "execute_result"
    },
    {
     "data": {
      "image/png": "[encoded data removed]",
      "text/plain": [
       "<Figure size 432x288 with 1 Axes>"
      ]
     },
     "metadata": {
      "needs_background": "light"
     },
     "output_type": "display_data"
    }
   ],
   "source": [
    "df.plot.line(x='date', y='num')"
   ]
  },
  {
   "cell_type": "code",
   "execution_count": 161,
   "metadata": {},
   "outputs": [
    {
     "data": {
      "text/plain": [
       "count    3958.000000\n",
       "mean      376.364578\n",
       "std        25.229715\n",
       "min       369.000000\n",
       "25%       371.000000\n",
       "50%       374.000000\n",
       "75%       375.000000\n",
       "max       989.000000\n",
       "Name: num, dtype: float64"
      ]
     },
     "execution_count": 161,
     "metadata": {},
     "output_type": "execute_result"
    }
   ],
   "source": [
    "df['num'].describe()"
   ]
  },
  {
   "cell_type": "code",
   "execution_count": 162,
   "metadata": {},
   "outputs": [
    {
     "data": {
      "text/plain": [
       "375    729\n",
       "372    629\n",
       "371    536\n",
       "374    490\n",
       "370    339\n",
       "376    294\n",
       "373    244\n",
       "377    124\n",
       "369    116\n",
       "395     94\n",
       "397     51\n",
       "396     44\n",
       "398     37\n",
       "394     33\n",
       "378     27\n",
       "379     27\n",
       "382     17\n",
       "403     16\n",
       "381     15\n",
       "399     14\n",
       "380     14\n",
       "384     11\n",
       "402      7\n",
       "400      6\n",
       "383      5\n",
       "393      5\n",
       "390      5\n",
       "405      4\n",
       "404      3\n",
       "385      2\n",
       "386      2\n",
       "967      2\n",
       "401      2\n",
       "419      1\n",
       "421      1\n",
       "437      1\n",
       "507      1\n",
       "613      1\n",
       "388      1\n",
       "387      1\n",
       "980      1\n",
       "976      1\n",
       "964      1\n",
       "620      1\n",
       "576      1\n",
       "448      1\n",
       "989      1\n",
       "Name: num, dtype: int64"
      ]
     },
     "execution_count": 162,
     "metadata": {},
     "output_type": "execute_result"
    }
   ],
   "source": [
    "df['num'].value_counts()"
   ]
  },
  {
   "cell_type": "code",
   "execution_count": 163,
   "metadata": {},
   "outputs": [
    {
     "data": {
      "text/plain": [
       "count    3628.000000\n",
       "mean      373.316152\n",
       "std         2.590857\n",
       "min       369.000000\n",
       "25%       371.000000\n",
       "50%       373.000000\n",
       "75%       375.000000\n",
       "max       390.000000\n",
       "Name: num, dtype: float64"
      ]
     },
     "execution_count": 163,
     "metadata": {},
     "output_type": "execute_result"
    }
   ],
   "source": [
    "df_mod=df[df['num'].between(1, 390)]\n",
    "#df_mod=df[df['num'].between(1, 455)]\n",
    "\n",
    "df_mod['num'].describe()"
   ]
  },
  {
   "cell_type": "code",
   "execution_count": 164,
   "metadata": {},
   "outputs": [
    {
     "data": {
      "image/png": "[encoded data removed]",
      "text/plain": [
       "<Figure size 432x288 with 1 Axes>"
      ]
     },
     "metadata": {
      "needs_background": "light"
     },
     "output_type": "display_data"
    }
   ],
   "source": [
    "p = df_mod.plot.line(x='date', y='num')"
   ]
  },
  {
   "cell_type": "code",
   "execution_count": 165,
   "metadata": {},
   "outputs": [],
   "source": [
    "p.get_figure().savefig('myfile.pdf')"
   ]
  },
  {
   "cell_type": "code",
   "execution_count": null,
   "metadata": {},
   "outputs": [],
   "source": []
  }
 ],
 "metadata": {
  "kernelspec": {
   "display_name": "Python 3",
   "language": "python",
   "name": "python3"
  },
  "language_info": {
   "codemirror_mode": {
    "name": "ipython",
    "version": 3
   },
   "file_extension": ".py",
   "mimetype": "text/x-python",
   "name": "python",
   "nbconvert_exporter": "python",
   "pygments_lexer": "ipython3",
   "version": "3.8.5"
  }
 },
 "nbformat": 4,
 "nbformat_minor": 4
}
