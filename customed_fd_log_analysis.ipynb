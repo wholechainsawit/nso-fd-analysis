{
 "cells": [
  {
   "cell_type": "code",
   "execution_count": 1,
   "metadata": {},
   "outputs": [],
   "source": [
    "import pandas as pd\n",
    "import matplotlib.pyplot as plt\n",
    "from pandas import Series, DataFrame"
   ]
  },
  {
   "cell_type": "code",
   "execution_count": 3,
   "metadata": {},
   "outputs": [
    {
     "name": "stdout",
     "output_type": "stream",
     "text": [
      "Thu May 27 00:53:19 EDT 2021 -- File Descriptors ncs  : 365\r\n",
      "Thu May 27 00:53:19 EDT 2021 -- File Descriptors 4260 : 430\r\n",
      "Thu May 27 00:53:19 EDT 2021 -- File Descriptors 4638 : 73\r\n",
      "Thu May 27 00:53:41 EDT 2021 -- File Descriptors ncs  : 365\r\n",
      "Thu May 27 00:53:41 EDT 2021 -- File Descriptors 4260 : 428\r\n",
      "Thu May 27 00:53:42 EDT 2021 -- File Descriptors 4638 : 73\r\n",
      "Thu May 27 00:53:57 EDT 2021 -- File Descriptors ncs  : 365\r\n",
      "Thu May 27 00:53:57 EDT 2021 -- File Descriptors 4260 : 428\r\n",
      "Thu May 27 00:53:57 EDT 2021 -- File Descriptors 4638 : 73\r\n",
      "Thu May 27 00:54:12 EDT 2021 -- File Descriptors ncs  : 365\r\n"
     ]
    }
   ],
   "source": [
    "!head ../nso-lsof.log"
   ]
  },
  {
   "cell_type": "code",
   "execution_count": 4,
   "metadata": {},
   "outputs": [],
   "source": [
    "!awk '/File Descriptors ncs/' ../nso-lsof.log > 1.log\n",
    "!awk '/File Descriptors 4260/' ../nso-lsof.log > 2.log\n",
    "!awk '/File Descriptors 4638/' ../nso-lsof.log > 3.log"
   ]
  },
  {
   "cell_type": "code",
   "execution_count": 35,
   "metadata": {},
   "outputs": [
    {
     "data": {
      "text/html": [
       "<div>\n",
       "<style scoped>\n",
       "    .dataframe tbody tr th:only-of-type {\n",
       "        vertical-align: middle;\n",
       "    }\n",
       "\n",
       "    .dataframe tbody tr th {\n",
       "        vertical-align: top;\n",
       "    }\n",
       "\n",
       "    .dataframe thead th {\n",
       "        text-align: right;\n",
       "    }\n",
       "</style>\n",
       "<table border=\"1\" class=\"dataframe\">\n",
       "  <thead>\n",
       "    <tr style=\"text-align: right;\">\n",
       "      <th></th>\n",
       "      <th>0</th>\n",
       "      <th>1</th>\n",
       "      <th>2</th>\n",
       "      <th>3</th>\n",
       "      <th>4</th>\n",
       "    </tr>\n",
       "  </thead>\n",
       "  <tbody>\n",
       "    <tr>\n",
       "      <th>0</th>\n",
       "      <td>Thu May 27 00</td>\n",
       "      <td>53</td>\n",
       "      <td>19 EDT 2021</td>\n",
       "      <td>File Descriptors 4260</td>\n",
       "      <td>430</td>\n",
       "    </tr>\n",
       "    <tr>\n",
       "      <th>1</th>\n",
       "      <td>Thu May 27 00</td>\n",
       "      <td>53</td>\n",
       "      <td>41 EDT 2021</td>\n",
       "      <td>File Descriptors 4260</td>\n",
       "      <td>428</td>\n",
       "    </tr>\n",
       "    <tr>\n",
       "      <th>2</th>\n",
       "      <td>Thu May 27 00</td>\n",
       "      <td>53</td>\n",
       "      <td>57 EDT 2021</td>\n",
       "      <td>File Descriptors 4260</td>\n",
       "      <td>428</td>\n",
       "    </tr>\n",
       "    <tr>\n",
       "      <th>3</th>\n",
       "      <td>Thu May 27 00</td>\n",
       "      <td>54</td>\n",
       "      <td>12 EDT 2021</td>\n",
       "      <td>File Descriptors 4260</td>\n",
       "      <td>428</td>\n",
       "    </tr>\n",
       "    <tr>\n",
       "      <th>4</th>\n",
       "      <td>Thu May 27 00</td>\n",
       "      <td>54</td>\n",
       "      <td>27 EDT 2021</td>\n",
       "      <td>File Descriptors 4260</td>\n",
       "      <td>428</td>\n",
       "    </tr>\n",
       "  </tbody>\n",
       "</table>\n",
       "</div>"
      ],
      "text/plain": [
       "               0   1             2                        3    4\n",
       "0  Thu May 27 00  53  19 EDT 2021    File Descriptors 4260   430\n",
       "1  Thu May 27 00  53  41 EDT 2021    File Descriptors 4260   428\n",
       "2  Thu May 27 00  53  57 EDT 2021    File Descriptors 4260   428\n",
       "3  Thu May 27 00  54  12 EDT 2021    File Descriptors 4260   428\n",
       "4  Thu May 27 00  54  27 EDT 2021    File Descriptors 4260   428"
      ]
     },
     "execution_count": 35,
     "metadata": {},
     "output_type": "execute_result"
    }
   ],
   "source": [
    "df = pd.read_csv('2.log', sep=':|--', engine='python', header=None, skipinitialspace=True)\n",
    "\n",
    "df.head()"
   ]
  },
  {
   "cell_type": "code",
   "execution_count": 36,
   "metadata": {},
   "outputs": [
    {
     "name": "stdout",
     "output_type": "stream",
     "text": [
      "<class 'pandas.core.frame.DataFrame'>\n",
      "RangeIndex: 18153 entries, 0 to 18152\n",
      "Data columns (total 6 columns):\n",
      " #   Column  Non-Null Count  Dtype                                 \n",
      "---  ------  --------------  -----                                 \n",
      " 0   0       18153 non-null  object                                \n",
      " 1   1       18153 non-null  int64                                 \n",
      " 2   2       18153 non-null  object                                \n",
      " 3   3       18153 non-null  object                                \n",
      " 4   num     18153 non-null  int64                                 \n",
      " 5   date    18153 non-null  datetime64[ns, pytz.FixedOffset(-240)]\n",
      "dtypes: datetime64[ns, pytz.FixedOffset(-240)](1), int64(2), object(3)\n",
      "memory usage: 851.0+ KB\n"
     ]
    }
   ],
   "source": [
    "df['date'] = df[0] + \":\" + df[1].apply(str) + \":\" + df[2]\n",
    "df['date'] = pd.to_datetime(df['date'], infer_datetime_format=True)\n",
    "df = df.rename(columns = {4:'num'})\n",
    "#df.columns\n",
    "df.info()"
   ]
  },
  {
   "cell_type": "code",
   "execution_count": 37,
   "metadata": {},
   "outputs": [
    {
     "data": {
      "text/html": [
       "<div>\n",
       "<style scoped>\n",
       "    .dataframe tbody tr th:only-of-type {\n",
       "        vertical-align: middle;\n",
       "    }\n",
       "\n",
       "    .dataframe tbody tr th {\n",
       "        vertical-align: top;\n",
       "    }\n",
       "\n",
       "    .dataframe thead th {\n",
       "        text-align: right;\n",
       "    }\n",
       "</style>\n",
       "<table border=\"1\" class=\"dataframe\">\n",
       "  <thead>\n",
       "    <tr style=\"text-align: right;\">\n",
       "      <th></th>\n",
       "      <th>0</th>\n",
       "      <th>1</th>\n",
       "      <th>2</th>\n",
       "      <th>3</th>\n",
       "      <th>num</th>\n",
       "      <th>date</th>\n",
       "    </tr>\n",
       "  </thead>\n",
       "  <tbody>\n",
       "    <tr>\n",
       "      <th>0</th>\n",
       "      <td>Thu May 27 00</td>\n",
       "      <td>53</td>\n",
       "      <td>19 EDT 2021</td>\n",
       "      <td>File Descriptors 4260</td>\n",
       "      <td>430</td>\n",
       "      <td>2021-05-27 00:53:19-04:00</td>\n",
       "    </tr>\n",
       "    <tr>\n",
       "      <th>1</th>\n",
       "      <td>Thu May 27 00</td>\n",
       "      <td>53</td>\n",
       "      <td>41 EDT 2021</td>\n",
       "      <td>File Descriptors 4260</td>\n",
       "      <td>428</td>\n",
       "      <td>2021-05-27 00:53:41-04:00</td>\n",
       "    </tr>\n",
       "    <tr>\n",
       "      <th>2</th>\n",
       "      <td>Thu May 27 00</td>\n",
       "      <td>53</td>\n",
       "      <td>57 EDT 2021</td>\n",
       "      <td>File Descriptors 4260</td>\n",
       "      <td>428</td>\n",
       "      <td>2021-05-27 00:53:57-04:00</td>\n",
       "    </tr>\n",
       "    <tr>\n",
       "      <th>3</th>\n",
       "      <td>Thu May 27 00</td>\n",
       "      <td>54</td>\n",
       "      <td>12 EDT 2021</td>\n",
       "      <td>File Descriptors 4260</td>\n",
       "      <td>428</td>\n",
       "      <td>2021-05-27 00:54:12-04:00</td>\n",
       "    </tr>\n",
       "    <tr>\n",
       "      <th>4</th>\n",
       "      <td>Thu May 27 00</td>\n",
       "      <td>54</td>\n",
       "      <td>27 EDT 2021</td>\n",
       "      <td>File Descriptors 4260</td>\n",
       "      <td>428</td>\n",
       "      <td>2021-05-27 00:54:27-04:00</td>\n",
       "    </tr>\n",
       "  </tbody>\n",
       "</table>\n",
       "</div>"
      ],
      "text/plain": [
       "               0   1             2                        3  num  \\\n",
       "0  Thu May 27 00  53  19 EDT 2021    File Descriptors 4260   430   \n",
       "1  Thu May 27 00  53  41 EDT 2021    File Descriptors 4260   428   \n",
       "2  Thu May 27 00  53  57 EDT 2021    File Descriptors 4260   428   \n",
       "3  Thu May 27 00  54  12 EDT 2021    File Descriptors 4260   428   \n",
       "4  Thu May 27 00  54  27 EDT 2021    File Descriptors 4260   428   \n",
       "\n",
       "                       date  \n",
       "0 2021-05-27 00:53:19-04:00  \n",
       "1 2021-05-27 00:53:41-04:00  \n",
       "2 2021-05-27 00:53:57-04:00  \n",
       "3 2021-05-27 00:54:12-04:00  \n",
       "4 2021-05-27 00:54:27-04:00  "
      ]
     },
     "execution_count": 37,
     "metadata": {},
     "output_type": "execute_result"
    }
   ],
   "source": [
    "df.head()"
   ]
  },
  {
   "cell_type": "code",
   "execution_count": 38,
   "metadata": {},
   "outputs": [
    {
     "data": {
      "image/png": "[encoded data removed]",
      "text/plain": [
       "<Figure size 432x288 with 1 Axes>"
      ]
     },
     "metadata": {
      "needs_background": "light"
     },
     "output_type": "display_data"
    }
   ],
   "source": [
    "p_all = df.plot.line(x='date', y='num')"
   ]
  },
  {
   "cell_type": "code",
   "execution_count": 20,
   "metadata": {},
   "outputs": [],
   "source": [
    "p_all.get_figure().savefig('java_4260_all.pdf')"
   ]
  },
  {
   "cell_type": "code",
   "execution_count": 40,
   "metadata": {},
   "outputs": [
    {
     "data": {
      "text/plain": [
       "count    18153.000000\n",
       "mean       454.686774\n",
       "std         59.920519\n",
       "min        428.000000\n",
       "25%        436.000000\n",
       "50%        442.000000\n",
       "75%        465.000000\n",
       "max       1462.000000\n",
       "Name: num, dtype: float64"
      ]
     },
     "execution_count": 40,
     "metadata": {},
     "output_type": "execute_result"
    }
   ],
   "source": [
    "df['num'].describe()"
   ]
  },
  {
   "cell_type": "code",
   "execution_count": 41,
   "metadata": {},
   "outputs": [
    {
     "data": {
      "text/plain": [
       "433     2161\n",
       "441     1410\n",
       "465     1393\n",
       "466     1366\n",
       "439     1353\n",
       "        ... \n",
       "1090       1\n",
       "1321       1\n",
       "777        1\n",
       "569        1\n",
       "499        1\n",
       "Name: num, Length: 175, dtype: int64"
      ]
     },
     "execution_count": 41,
     "metadata": {},
     "output_type": "execute_result"
    }
   ],
   "source": [
    "df['num'].value_counts()"
   ]
  },
  {
   "cell_type": "code",
   "execution_count": 42,
   "metadata": {},
   "outputs": [
    {
     "data": {
      "text/plain": [
       "count    18044.000000\n",
       "mean       450.651962\n",
       "std         22.139111\n",
       "min        428.000000\n",
       "25%        436.000000\n",
       "50%        442.000000\n",
       "75%        465.000000\n",
       "max        587.000000\n",
       "Name: num, dtype: float64"
      ]
     },
     "execution_count": 42,
     "metadata": {},
     "output_type": "execute_result"
    }
   ],
   "source": [
    "df_mod=df[df['num'].between(300, 600)]\n",
    "#df_mod=df[df['num'].between(1, 455)]\n",
    "\n",
    "df_mod['num'].describe()"
   ]
  },
  {
   "cell_type": "code",
   "execution_count": 43,
   "metadata": {},
   "outputs": [
    {
     "data": {
      "image/png": "[encoded data removed]",
      "text/plain": [
       "<Figure size 432x288 with 1 Axes>"
      ]
     },
     "metadata": {
      "needs_background": "light"
     },
     "output_type": "display_data"
    }
   ],
   "source": [
    "p = df_mod.plot.line(x='date', y='num')"
   ]
  },
  {
   "cell_type": "code",
   "execution_count": 25,
   "metadata": {},
   "outputs": [],
   "source": [
    "p.get_figure().savefig('ncs_java_4260_zoom.pdf')"
   ]
  },
  {
   "cell_type": "code",
   "execution_count": null,
   "metadata": {},
   "outputs": [],
   "source": []
  }
 ],
 "metadata": {
  "kernelspec": {
   "display_name": "Python 3",
   "language": "python",
   "name": "python3"
  },
  "language_info": {
   "codemirror_mode": {
    "name": "ipython",
    "version": 3
   },
   "file_extension": ".py",
   "mimetype": "text/x-python",
   "name": "python",
   "nbconvert_exporter": "python",
   "pygments_lexer": "ipython3",
   "version": "3.8.5"
  }
 },
 "nbformat": 4,
 "nbformat_minor": 4
}
