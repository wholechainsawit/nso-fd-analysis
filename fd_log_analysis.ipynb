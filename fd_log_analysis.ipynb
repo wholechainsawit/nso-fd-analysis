{
 "cells": [
  {
   "cell_type": "code",
   "execution_count": 2,
   "metadata": {},
   "outputs": [],
   "source": [
    "import pandas as pd\n",
    "import matplotlib.pyplot as plt\n",
    "from pandas import Series, DataFrame"
   ]
  },
  {
   "cell_type": "code",
   "execution_count": 4,
   "metadata": {},
   "outputs": [
    {
     "name": "stdout",
     "output_type": "stream",
     "text": [
      "Thu Jun  3 21:51:39 EDT 2021,   ncs, 225\r\n",
      "Thu Jun  3 21:51:39 EDT 2021,  java, 190\r\n",
      "Thu Jun  3 21:51:39 EDT 2021,python, 187\r\n",
      "Thu Jun  3 21:52:40 EDT 2021,   ncs, 225\r\n",
      "Thu Jun  3 21:52:40 EDT 2021,  java, 190\r\n",
      "Thu Jun  3 21:52:40 EDT 2021,python, 187\r\n",
      "Thu Jun  3 21:53:41 EDT 2021,   ncs, 0\r\n",
      "Thu Jun  3 21:53:41 EDT 2021,  java, 0\r\n",
      "Thu Jun  3 21:53:41 EDT 2021,python, 0\r\n",
      "Thu Jun  3 21:55:08 EDT 2021,   ncs, 0\r\n"
     ]
    }
   ],
   "source": [
    "!head nso_fd_counts.log"
   ]
  },
  {
   "cell_type": "code",
   "execution_count": 5,
   "metadata": {},
   "outputs": [],
   "source": [
    "!awk '/ncs/' nso_fd_counts.log > 1.log\n",
    "!awk '/java/' nso_fd_counts.log > 2.log\n",
    "!awk '/python/' nso_fd_counts.log > 3.log"
   ]
  },
  {
   "cell_type": "code",
   "execution_count": 22,
   "metadata": {},
   "outputs": [
    {
     "data": {
      "text/html": [
       "<div>\n",
       "<style scoped>\n",
       "    .dataframe tbody tr th:only-of-type {\n",
       "        vertical-align: middle;\n",
       "    }\n",
       "\n",
       "    .dataframe tbody tr th {\n",
       "        vertical-align: top;\n",
       "    }\n",
       "\n",
       "    .dataframe thead th {\n",
       "        text-align: right;\n",
       "    }\n",
       "</style>\n",
       "<table border=\"1\" class=\"dataframe\">\n",
       "  <thead>\n",
       "    <tr style=\"text-align: right;\">\n",
       "      <th></th>\n",
       "      <th>0</th>\n",
       "      <th>1</th>\n",
       "      <th>2</th>\n",
       "    </tr>\n",
       "  </thead>\n",
       "  <tbody>\n",
       "    <tr>\n",
       "      <th>0</th>\n",
       "      <td>Thu Jun  3 21:51:39 EDT 2021</td>\n",
       "      <td>python</td>\n",
       "      <td>187</td>\n",
       "    </tr>\n",
       "    <tr>\n",
       "      <th>1</th>\n",
       "      <td>Thu Jun  3 21:52:40 EDT 2021</td>\n",
       "      <td>python</td>\n",
       "      <td>187</td>\n",
       "    </tr>\n",
       "    <tr>\n",
       "      <th>2</th>\n",
       "      <td>Thu Jun  3 21:53:41 EDT 2021</td>\n",
       "      <td>python</td>\n",
       "      <td>0</td>\n",
       "    </tr>\n",
       "    <tr>\n",
       "      <th>3</th>\n",
       "      <td>Thu Jun  3 21:59:10 EDT 2021</td>\n",
       "      <td>python</td>\n",
       "      <td>187</td>\n",
       "    </tr>\n",
       "    <tr>\n",
       "      <th>4</th>\n",
       "      <td>Thu Jun  3 22:00:10 EDT 2021</td>\n",
       "      <td>python</td>\n",
       "      <td>187</td>\n",
       "    </tr>\n",
       "  </tbody>\n",
       "</table>\n",
       "</div>"
      ],
      "text/plain": [
       "                              0       1    2\n",
       "0  Thu Jun  3 21:51:39 EDT 2021  python  187\n",
       "1  Thu Jun  3 21:52:40 EDT 2021  python  187\n",
       "2  Thu Jun  3 21:53:41 EDT 2021  python    0\n",
       "3  Thu Jun  3 21:59:10 EDT 2021  python  187\n",
       "4  Thu Jun  3 22:00:10 EDT 2021  python  187"
      ]
     },
     "execution_count": 22,
     "metadata": {},
     "output_type": "execute_result"
    }
   ],
   "source": [
    "df = pd.read_csv('3.log', sep=',', engine='python', header=None, skipinitialspace=True)\n",
    "\n",
    "df.head()"
   ]
  },
  {
   "cell_type": "code",
   "execution_count": 23,
   "metadata": {},
   "outputs": [
    {
     "name": "stdout",
     "output_type": "stream",
     "text": [
      "<class 'pandas.core.frame.DataFrame'>\n",
      "RangeIndex: 8244 entries, 0 to 8243\n",
      "Data columns (total 3 columns):\n",
      " #   Column  Non-Null Count  Dtype                                 \n",
      "---  ------  --------------  -----                                 \n",
      " 0   date    8244 non-null   datetime64[ns, pytz.FixedOffset(-240)]\n",
      " 1   1       8244 non-null   object                                \n",
      " 2   num     8244 non-null   int64                                 \n",
      "dtypes: datetime64[ns, pytz.FixedOffset(-240)](1), int64(1), object(1)\n",
      "memory usage: 193.3+ KB\n"
     ]
    }
   ],
   "source": [
    "#df['date'] = df[0] + \":\" + df[1].apply(str) + \":\" + df[2]\n",
    "df = df.rename(columns = {0: 'date'})\n",
    "df['date'] = pd.to_datetime(df['date'], infer_datetime_format=True)\n",
    "df = df.rename(columns = {2:'num'})\n",
    "#df.columns\n",
    "df.info()"
   ]
  },
  {
   "cell_type": "code",
   "execution_count": 24,
   "metadata": {},
   "outputs": [
    {
     "data": {
      "text/html": [
       "<div>\n",
       "<style scoped>\n",
       "    .dataframe tbody tr th:only-of-type {\n",
       "        vertical-align: middle;\n",
       "    }\n",
       "\n",
       "    .dataframe tbody tr th {\n",
       "        vertical-align: top;\n",
       "    }\n",
       "\n",
       "    .dataframe thead th {\n",
       "        text-align: right;\n",
       "    }\n",
       "</style>\n",
       "<table border=\"1\" class=\"dataframe\">\n",
       "  <thead>\n",
       "    <tr style=\"text-align: right;\">\n",
       "      <th></th>\n",
       "      <th>date</th>\n",
       "      <th>1</th>\n",
       "      <th>num</th>\n",
       "    </tr>\n",
       "  </thead>\n",
       "  <tbody>\n",
       "    <tr>\n",
       "      <th>0</th>\n",
       "      <td>2021-06-03 21:51:39-04:00</td>\n",
       "      <td>python</td>\n",
       "      <td>187</td>\n",
       "    </tr>\n",
       "    <tr>\n",
       "      <th>1</th>\n",
       "      <td>2021-06-03 21:52:40-04:00</td>\n",
       "      <td>python</td>\n",
       "      <td>187</td>\n",
       "    </tr>\n",
       "    <tr>\n",
       "      <th>2</th>\n",
       "      <td>2021-06-03 21:53:41-04:00</td>\n",
       "      <td>python</td>\n",
       "      <td>0</td>\n",
       "    </tr>\n",
       "    <tr>\n",
       "      <th>3</th>\n",
       "      <td>2021-06-03 21:59:10-04:00</td>\n",
       "      <td>python</td>\n",
       "      <td>187</td>\n",
       "    </tr>\n",
       "    <tr>\n",
       "      <th>4</th>\n",
       "      <td>2021-06-03 22:00:10-04:00</td>\n",
       "      <td>python</td>\n",
       "      <td>187</td>\n",
       "    </tr>\n",
       "  </tbody>\n",
       "</table>\n",
       "</div>"
      ],
      "text/plain": [
       "                       date       1  num\n",
       "0 2021-06-03 21:51:39-04:00  python  187\n",
       "1 2021-06-03 21:52:40-04:00  python  187\n",
       "2 2021-06-03 21:53:41-04:00  python    0\n",
       "3 2021-06-03 21:59:10-04:00  python  187\n",
       "4 2021-06-03 22:00:10-04:00  python  187"
      ]
     },
     "execution_count": 24,
     "metadata": {},
     "output_type": "execute_result"
    }
   ],
   "source": [
    "df.head()"
   ]
  },
  {
   "cell_type": "code",
   "execution_count": 25,
   "metadata": {},
   "outputs": [
    {
     "data": {
      "text/plain": [
       "<AxesSubplot:xlabel='date'>"
      ]
     },
     "execution_count": 25,
     "metadata": {},
     "output_type": "execute_result"
    },
    {
     "data": {
      "image/png": "[encoded data removed]",
      "text/plain": [
       "<Figure size 432x288 with 1 Axes>"
      ]
     },
     "metadata": {
      "needs_background": "light"
     },
     "output_type": "display_data"
    }
   ],
   "source": [
    "df.plot.line(x='date', y='num')"
   ]
  },
  {
   "cell_type": "code",
   "execution_count": 26,
   "metadata": {},
   "outputs": [
    {
     "data": {
      "text/plain": [
       "count    8244.000000\n",
       "mean      182.084668\n",
       "std        10.564516\n",
       "min         0.000000\n",
       "25%       169.000000\n",
       "50%       187.000000\n",
       "75%       187.000000\n",
       "max       222.000000\n",
       "Name: num, dtype: float64"
      ]
     },
     "execution_count": 26,
     "metadata": {},
     "output_type": "execute_result"
    }
   ],
   "source": [
    "df['num'].describe()"
   ]
  },
  {
   "cell_type": "code",
   "execution_count": 27,
   "metadata": {},
   "outputs": [
    {
     "data": {
      "text/plain": [
       "187    5113\n",
       "169    1848\n",
       "199     589\n",
       "165     556\n",
       "179      65\n",
       "172      36\n",
       "168      13\n",
       "180       7\n",
       "202       4\n",
       "0         3\n",
       "186       1\n",
       "178       1\n",
       "84        1\n",
       "204       1\n",
       "13        1\n",
       "208       1\n",
       "166       1\n",
       "182       1\n",
       "190       1\n",
       "222       1\n",
       "Name: num, dtype: int64"
      ]
     },
     "execution_count": 27,
     "metadata": {},
     "output_type": "execute_result"
    }
   ],
   "source": [
    "df['num'].value_counts()"
   ]
  },
  {
   "cell_type": "code",
   "execution_count": 28,
   "metadata": {},
   "outputs": [
    {
     "data": {
      "text/plain": [
       "count    8239.000000\n",
       "mean      182.183396\n",
       "std         9.744477\n",
       "min       165.000000\n",
       "25%       169.000000\n",
       "50%       187.000000\n",
       "75%       187.000000\n",
       "max       222.000000\n",
       "Name: num, dtype: float64"
      ]
     },
     "execution_count": 28,
     "metadata": {},
     "output_type": "execute_result"
    }
   ],
   "source": [
    "df_mod=df[df['num'].between(100, 300)]\n",
    "#df_mod=df[df['num'].between(1, 455)]\n",
    "\n",
    "df_mod['num'].describe()"
   ]
  },
  {
   "cell_type": "code",
   "execution_count": 29,
   "metadata": {},
   "outputs": [
    {
     "data": {
      "image/png": "[encoded data removed]",
      "text/plain": [
       "<Figure size 432x288 with 1 Axes>"
      ]
     },
     "metadata": {
      "needs_background": "light"
     },
     "output_type": "display_data"
    }
   ],
   "source": [
    "p = df_mod.plot.line(x='date', y='num')"
   ]
  },
  {
   "cell_type": "code",
   "execution_count": 165,
   "metadata": {},
   "outputs": [],
   "source": [
    "p.get_figure().savefig('myfile.pdf')"
   ]
  },
  {
   "cell_type": "code",
   "execution_count": null,
   "metadata": {},
   "outputs": [],
   "source": []
  }
 ],
 "metadata": {
  "kernelspec": {
   "display_name": "Python 3",
   "language": "python",
   "name": "python3"
  },
  "language_info": {
   "codemirror_mode": {
    "name": "ipython",
    "version": 3
   },
   "file_extension": ".py",
   "mimetype": "text/x-python",
   "name": "python",
   "nbconvert_exporter": "python",
   "pygments_lexer": "ipython3",
   "version": "3.8.5"
  }
 },
 "nbformat": 4,
 "nbformat_minor": 4
}
